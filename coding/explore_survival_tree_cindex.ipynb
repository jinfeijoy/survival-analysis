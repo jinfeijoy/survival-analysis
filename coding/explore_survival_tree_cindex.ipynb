{
  "nbformat": 4,
  "nbformat_minor": 0,
  "metadata": {
    "colab": {
      "name": "explore_survival_tree_cindex.ipynb",
      "provenance": [],
      "collapsed_sections": []
    },
    "kernelspec": {
      "name": "python3",
      "display_name": "Python 3"
    },
    "language_info": {
      "name": "python"
    }
  },
  "cells": [
    {
      "cell_type": "code",
      "execution_count": 16,
      "metadata": {
        "colab": {
          "base_uri": "https://localhost:8080/"
        },
        "id": "T3WdjHLot788",
        "outputId": "c229466b-5e81-4a98-ffa0-7927b0892e20"
      },
      "outputs": [
        {
          "output_type": "stream",
          "name": "stdout",
          "text": [
            "Requirement already satisfied: scikit-learn==0.24 in /usr/local/lib/python3.7/dist-packages (0.24.0)\n",
            "Requirement already satisfied: joblib>=0.11 in /usr/local/lib/python3.7/dist-packages (from scikit-learn==0.24) (1.1.0)\n",
            "Requirement already satisfied: scipy>=0.19.1 in /usr/local/lib/python3.7/dist-packages (from scikit-learn==0.24) (1.4.1)\n",
            "Requirement already satisfied: numpy>=1.13.3 in /usr/local/lib/python3.7/dist-packages (from scikit-learn==0.24) (1.19.5)\n",
            "Requirement already satisfied: threadpoolctl>=2.0.0 in /usr/local/lib/python3.7/dist-packages (from scikit-learn==0.24) (3.0.0)\n",
            "Requirement already satisfied: delayed in /usr/local/lib/python3.7/dist-packages (0.11.0b1)\n",
            "Requirement already satisfied: redis in /usr/local/lib/python3.7/dist-packages (from delayed) (4.0.2)\n",
            "Requirement already satisfied: hiredis in /usr/local/lib/python3.7/dist-packages (from delayed) (2.0.0)\n",
            "Requirement already satisfied: deprecated in /usr/local/lib/python3.7/dist-packages (from redis->delayed) (1.2.13)\n",
            "Requirement already satisfied: wrapt<2,>=1.10 in /usr/local/lib/python3.7/dist-packages (from deprecated->redis->delayed) (1.13.3)\n",
            "Requirement already satisfied: scikit-survival in /usr/local/lib/python3.7/dist-packages (0.16.0)\n",
            "Requirement already satisfied: joblib in /usr/local/lib/python3.7/dist-packages (from scikit-survival) (1.1.0)\n",
            "Requirement already satisfied: numpy in /usr/local/lib/python3.7/dist-packages (from scikit-survival) (1.19.5)\n",
            "Requirement already satisfied: numexpr in /usr/local/lib/python3.7/dist-packages (from scikit-survival) (2.7.3)\n",
            "Requirement already satisfied: scikit-learn<0.25,>=0.24.0 in /usr/local/lib/python3.7/dist-packages (from scikit-survival) (0.24.0)\n",
            "Requirement already satisfied: scipy!=1.3.0,>=1.0 in /usr/local/lib/python3.7/dist-packages (from scikit-survival) (1.4.1)\n",
            "Requirement already satisfied: osqp!=0.6.0,!=0.6.1 in /usr/local/lib/python3.7/dist-packages (from scikit-survival) (0.6.2.post0)\n",
            "Requirement already satisfied: ecos in /usr/local/lib/python3.7/dist-packages (from scikit-survival) (2.0.7.post1)\n",
            "Requirement already satisfied: pandas>=0.25 in /usr/local/lib/python3.7/dist-packages (from scikit-survival) (1.1.5)\n",
            "Requirement already satisfied: qdldl in /usr/local/lib/python3.7/dist-packages (from osqp!=0.6.0,!=0.6.1->scikit-survival) (0.1.5.post0)\n",
            "Requirement already satisfied: python-dateutil>=2.7.3 in /usr/local/lib/python3.7/dist-packages (from pandas>=0.25->scikit-survival) (2.8.2)\n",
            "Requirement already satisfied: pytz>=2017.2 in /usr/local/lib/python3.7/dist-packages (from pandas>=0.25->scikit-survival) (2018.9)\n",
            "Requirement already satisfied: six>=1.5 in /usr/local/lib/python3.7/dist-packages (from python-dateutil>=2.7.3->pandas>=0.25->scikit-survival) (1.15.0)\n",
            "Requirement already satisfied: threadpoolctl>=2.0.0 in /usr/local/lib/python3.7/dist-packages (from scikit-learn<0.25,>=0.24.0->scikit-survival) (3.0.0)\n",
            "Drive already mounted at /content/drive; to attempt to forcibly remount, call drive.mount(\"/content/drive\", force_remount=True).\n"
          ]
        }
      ],
      "source": [
        "import pandas as pd\n",
        "import matplotlib.pyplot as plt\n",
        "import numpy as np\n",
        "import os\n",
        "%matplotlib inline\n",
        "\n",
        "from sklearn.model_selection import train_test_split\n",
        "from sklearn.preprocessing import OrdinalEncoder\n",
        "!pip install scikit-learn==0.24\n",
        "!pip install delayed\n",
        "!pip install scikit-survival\n",
        "!pip install eli5\n",
        "!pip install lifelines\n",
        "\n",
        "from sksurv.datasets import load_gbsg2\n",
        "from sksurv.preprocessing import OneHotEncoder\n",
        "from sksurv.ensemble import RandomSurvivalForest\n",
        "import sksurv\n",
        "from google.colab import drive\n",
        "drive.mount('/content/drive')\n",
        "path = '/content/drive/MyDrive/colab_data'"
      ]
    },
    {
      "cell_type": "code",
      "source": [
        "data = pd.read_csv(os.path.join(path, \"WA_Fn-UseC_-Telco-Customer-Churn.csv\"))\n",
        "data['Churn'] = data['Churn'].apply(lambda x: np.where(x=='Yes',1,0))\n",
        "data['entry_age'] = 0\n",
        "data = data[data.tenure>data.entry_age]\n",
        "data['TotalCharges'] = pd.to_numeric(data['TotalCharges'])\n",
        "data[data.select_dtypes(['object']).columns] = data.select_dtypes(['object']).apply(lambda x: x.astype('category'))\n",
        "data.head(3)\n"
      ],
      "metadata": {
        "colab": {
          "base_uri": "https://localhost:8080/",
          "height": 216
        },
        "id": "FY1csrMQwJEP",
        "outputId": "12ac9ad6-5e7b-4b48-f530-702f0bd6125c"
      },
      "execution_count": 7,
      "outputs": [
        {
          "output_type": "execute_result",
          "data": {
            "text/html": [
              "<div>\n",
              "<style scoped>\n",
              "    .dataframe tbody tr th:only-of-type {\n",
              "        vertical-align: middle;\n",
              "    }\n",
              "\n",
              "    .dataframe tbody tr th {\n",
              "        vertical-align: top;\n",
              "    }\n",
              "\n",
              "    .dataframe thead th {\n",
              "        text-align: right;\n",
              "    }\n",
              "</style>\n",
              "<table border=\"1\" class=\"dataframe\">\n",
              "  <thead>\n",
              "    <tr style=\"text-align: right;\">\n",
              "      <th></th>\n",
              "      <th>customerID</th>\n",
              "      <th>gender</th>\n",
              "      <th>SeniorCitizen</th>\n",
              "      <th>Partner</th>\n",
              "      <th>Dependents</th>\n",
              "      <th>tenure</th>\n",
              "      <th>PhoneService</th>\n",
              "      <th>MultipleLines</th>\n",
              "      <th>InternetService</th>\n",
              "      <th>OnlineSecurity</th>\n",
              "      <th>OnlineBackup</th>\n",
              "      <th>DeviceProtection</th>\n",
              "      <th>TechSupport</th>\n",
              "      <th>StreamingTV</th>\n",
              "      <th>StreamingMovies</th>\n",
              "      <th>Contract</th>\n",
              "      <th>PaperlessBilling</th>\n",
              "      <th>PaymentMethod</th>\n",
              "      <th>MonthlyCharges</th>\n",
              "      <th>TotalCharges</th>\n",
              "      <th>Churn</th>\n",
              "      <th>entry_age</th>\n",
              "    </tr>\n",
              "  </thead>\n",
              "  <tbody>\n",
              "    <tr>\n",
              "      <th>0</th>\n",
              "      <td>7590-VHVEG</td>\n",
              "      <td>Female</td>\n",
              "      <td>0</td>\n",
              "      <td>Yes</td>\n",
              "      <td>No</td>\n",
              "      <td>1</td>\n",
              "      <td>No</td>\n",
              "      <td>No phone service</td>\n",
              "      <td>DSL</td>\n",
              "      <td>No</td>\n",
              "      <td>Yes</td>\n",
              "      <td>No</td>\n",
              "      <td>No</td>\n",
              "      <td>No</td>\n",
              "      <td>No</td>\n",
              "      <td>Month-to-month</td>\n",
              "      <td>Yes</td>\n",
              "      <td>Electronic check</td>\n",
              "      <td>29.85</td>\n",
              "      <td>29.85</td>\n",
              "      <td>0</td>\n",
              "      <td>0</td>\n",
              "    </tr>\n",
              "    <tr>\n",
              "      <th>1</th>\n",
              "      <td>5575-GNVDE</td>\n",
              "      <td>Male</td>\n",
              "      <td>0</td>\n",
              "      <td>No</td>\n",
              "      <td>No</td>\n",
              "      <td>34</td>\n",
              "      <td>Yes</td>\n",
              "      <td>No</td>\n",
              "      <td>DSL</td>\n",
              "      <td>Yes</td>\n",
              "      <td>No</td>\n",
              "      <td>Yes</td>\n",
              "      <td>No</td>\n",
              "      <td>No</td>\n",
              "      <td>No</td>\n",
              "      <td>One year</td>\n",
              "      <td>No</td>\n",
              "      <td>Mailed check</td>\n",
              "      <td>56.95</td>\n",
              "      <td>1889.50</td>\n",
              "      <td>0</td>\n",
              "      <td>0</td>\n",
              "    </tr>\n",
              "    <tr>\n",
              "      <th>2</th>\n",
              "      <td>3668-QPYBK</td>\n",
              "      <td>Male</td>\n",
              "      <td>0</td>\n",
              "      <td>No</td>\n",
              "      <td>No</td>\n",
              "      <td>2</td>\n",
              "      <td>Yes</td>\n",
              "      <td>No</td>\n",
              "      <td>DSL</td>\n",
              "      <td>Yes</td>\n",
              "      <td>Yes</td>\n",
              "      <td>No</td>\n",
              "      <td>No</td>\n",
              "      <td>No</td>\n",
              "      <td>No</td>\n",
              "      <td>Month-to-month</td>\n",
              "      <td>Yes</td>\n",
              "      <td>Mailed check</td>\n",
              "      <td>53.85</td>\n",
              "      <td>108.15</td>\n",
              "      <td>1</td>\n",
              "      <td>0</td>\n",
              "    </tr>\n",
              "  </tbody>\n",
              "</table>\n",
              "</div>"
            ],
            "text/plain": [
              "   customerID  gender  SeniorCitizen  ... TotalCharges Churn  entry_age\n",
              "0  7590-VHVEG  Female              0  ...        29.85     0          0\n",
              "1  5575-GNVDE    Male              0  ...      1889.50     0          0\n",
              "2  3668-QPYBK    Male              0  ...       108.15     1          0\n",
              "\n",
              "[3 rows x 22 columns]"
            ]
          },
          "metadata": {},
          "execution_count": 7
        }
      ]
    },
    {
      "cell_type": "markdown",
      "source": [
        "## Survival Tree (sksurv)"
      ],
      "metadata": {
        "id": "CsHrlO9QYsvA"
      }
    },
    {
      "cell_type": "code",
      "source": [
        "X, y = sksurv.datasets.get_x_y(data, ['Churn','tenure'], pos_label=1, survival=True)"
      ],
      "metadata": {
        "id": "iOSg01eJQB1p"
      },
      "execution_count": 17,
      "outputs": []
    },
    {
      "cell_type": "code",
      "source": [
        "# Reference: https://scikit-survival.readthedocs.io/en/stable/user_guide/random-survival-forest.html\n",
        "feature_names = ['SeniorCitizen', \n",
        "                    'Partner', \n",
        "                    'Dependents', \n",
        "#                     'PhoneService', 'MultipleLines', 'InternetService', \n",
        "#                     'OnlineSecurity', 'OnlineBackup', 'DeviceProtection', \n",
        "#                     'TechSupport', 'StreamingTV', 'StreamingMovies', \n",
        "#                     'Contract', 'PaperlessBilling', 'PaymentMethod', \n",
        "                    'MonthlyCharges', \n",
        "                    'TotalCharges', \n",
        "                    'gender', 'entry_age']\n",
        "Xt = X[feature_names]\n",
        "\n",
        "\n",
        "Xt = OneHotEncoder().fit_transform(Xt)\n"
      ],
      "metadata": {
        "id": "Ev2xGi9MWKKE"
      },
      "execution_count": 20,
      "outputs": []
    },
    {
      "cell_type": "code",
      "source": [
        "random_state = 20\n",
        "\n",
        "X_train, X_test, y_train, y_test = train_test_split(Xt, y, test_size=0.25, random_state=random_state)"
      ],
      "metadata": {
        "id": "S2wz3AX6OMhd"
      },
      "execution_count": 21,
      "outputs": []
    },
    {
      "cell_type": "code",
      "source": [
        "rsf = RandomSurvivalForest(n_estimators=100,\n",
        "                           min_samples_split=10,\n",
        "                           min_samples_leaf=15,\n",
        "                           max_features=\"sqrt\",\n",
        "                           n_jobs=-1,\n",
        "                           random_state=random_state)\n",
        "rsf.fit(X_train, y_train)"
      ],
      "metadata": {
        "colab": {
          "base_uri": "https://localhost:8080/"
        },
        "id": "vZ1Gd5DxOOni",
        "outputId": "6901d8fd-8488-4a2a-d4b5-317caed4f777"
      },
      "execution_count": 24,
      "outputs": [
        {
          "output_type": "execute_result",
          "data": {
            "text/plain": [
              "RandomSurvivalForest(max_features='sqrt', min_samples_leaf=15,\n",
              "                     min_samples_split=10, n_jobs=-1, random_state=20)"
            ]
          },
          "metadata": {},
          "execution_count": 24
        }
      ]
    },
    {
      "cell_type": "code",
      "source": [
        "rsf.score(X_test, y_test) #concordance index"
      ],
      "metadata": {
        "colab": {
          "base_uri": "https://localhost:8080/"
        },
        "id": "YSX5YNeHOUkC",
        "outputId": "a100b553-5268-4817-947a-74830c9a5291"
      },
      "execution_count": 25,
      "outputs": [
        {
          "output_type": "execute_result",
          "data": {
            "text/plain": [
              "0.9002133111279444"
            ]
          },
          "metadata": {},
          "execution_count": 25
        }
      ]
    },
    {
      "cell_type": "code",
      "source": [
        "X_test_sel = X_test.head(3)\n",
        "print(X_test_sel)\n",
        "pd.Series(rsf.predict(X_test_sel))"
      ],
      "metadata": {
        "colab": {
          "base_uri": "https://localhost:8080/"
        },
        "id": "J5vTqAWXS48Q",
        "outputId": "68550696-4f84-41fc-b7de-6cd871ddf937"
      },
      "execution_count": 28,
      "outputs": [
        {
          "output_type": "stream",
          "name": "stdout",
          "text": [
            "      SeniorCitizen  Partner=Yes  ...  gender=Male  entry_age\n",
            "6610              0          0.0  ...          1.0          0\n",
            "6785              0          0.0  ...          1.0          0\n",
            "7018              0          1.0  ...          1.0          0\n",
            "\n",
            "[3 rows x 7 columns]\n"
          ]
        },
        {
          "output_type": "execute_result",
          "data": {
            "text/plain": [
              "0    105.119691\n",
              "1      5.184091\n",
              "2     83.870430\n",
              "dtype: float64"
            ]
          },
          "metadata": {},
          "execution_count": 28
        }
      ]
    },
    {
      "cell_type": "code",
      "source": [
        "surv = rsf.predict_survival_function(X_test_sel, return_array=True)\n",
        "\n",
        "for i, s in enumerate(surv):\n",
        "    plt.step(rsf.event_times_, s, where=\"post\", label=str(i))\n",
        "plt.ylabel(\"Survival probability\")\n",
        "plt.xlabel(\"Time in days\")\n",
        "plt.legend()\n",
        "plt.grid(True)"
      ],
      "metadata": {
        "colab": {
          "base_uri": "https://localhost:8080/",
          "height": 279
        },
        "id": "r3XwhS-ZTLDQ",
        "outputId": "d9d1154a-a5cd-435d-e088-bb7c6c73120b"
      },
      "execution_count": 29,
      "outputs": [
        {
          "output_type": "display_data",
          "data": {
            "image/png": "[encoded data removed]",
            "text/plain": [
              "<Figure size 432x288 with 1 Axes>"
            ]
          },
          "metadata": {
            "needs_background": "light"
          }
        }
      ]
    },
    {
      "cell_type": "code",
      "source": [
        "surv = rsf.predict_cumulative_hazard_function(X_test_sel, return_array=True)\n",
        "\n",
        "for i, s in enumerate(surv):\n",
        "    plt.step(rsf.event_times_, s, where=\"post\", label=str(i))\n",
        "plt.ylabel(\"Cumulative hazard\")\n",
        "plt.xlabel(\"Time in days\")\n",
        "plt.legend()\n",
        "plt.grid(True)"
      ],
      "metadata": {
        "colab": {
          "base_uri": "https://localhost:8080/",
          "height": 279
        },
        "id": "MIhTJLphTZH-",
        "outputId": "ff317aaa-4898-455a-e6f6-718d27748a69"
      },
      "execution_count": 30,
      "outputs": [
        {
          "output_type": "display_data",
          "data": {
            "image/png": "[encoded data removed]",
            "text/plain": [
              "<Figure size 432x288 with 1 Axes>"
            ]
          },
          "metadata": {
            "needs_background": "light"
          }
        }
      ]
    },
    {
      "cell_type": "code",
      "source": [
        "\n",
        "import eli5\n",
        "from eli5.sklearn import PermutationImportance\n",
        "\n",
        "perm = PermutationImportance(rsf, n_iter=15, random_state=random_state)\n",
        "perm.fit(X_test, y_test)\n",
        "eli5.show_weights(perm, feature_names=feature_names)"
      ],
      "metadata": {
        "colab": {
          "base_uri": "https://localhost:8080/",
          "height": 434
        },
        "id": "N_y6JuIaTcW-",
        "outputId": "747ec52a-d4b9-41a3-8939-793900b9167a"
      },
      "execution_count": 32,
      "outputs": [
        {
          "output_type": "stream",
          "name": "stdout",
          "text": [
            "Collecting eli5\n",
            "  Downloading eli5-0.11.0-py2.py3-none-any.whl (106 kB)\n",
            "\u001b[?25l\r\u001b[K     |███                             | 10 kB 16.5 MB/s eta 0:00:01\r\u001b[K     |██████▏                         | 20 kB 21.5 MB/s eta 0:00:01\r\u001b[K     |█████████▎                      | 30 kB 26.1 MB/s eta 0:00:01\r\u001b[K     |████████████▍                   | 40 kB 26.2 MB/s eta 0:00:01\r\u001b[K     |███████████████▌                | 51 kB 8.1 MB/s eta 0:00:01\r\u001b[K     |██████████████████▌             | 61 kB 9.1 MB/s eta 0:00:01\r\u001b[K     |█████████████████████▋          | 71 kB 7.8 MB/s eta 0:00:01\r\u001b[K     |████████████████████████▊       | 81 kB 8.5 MB/s eta 0:00:01\r\u001b[K     |███████████████████████████▉    | 92 kB 9.4 MB/s eta 0:00:01\r\u001b[K     |███████████████████████████████ | 102 kB 8.1 MB/s eta 0:00:01\r\u001b[K     |████████████████████████████████| 106 kB 8.1 MB/s \n",
            "\u001b[?25hRequirement already satisfied: tabulate>=0.7.7 in /usr/local/lib/python3.7/dist-packages (from eli5) (0.8.9)\n",
            "Requirement already satisfied: six in /usr/local/lib/python3.7/dist-packages (from eli5) (1.15.0)\n",
            "Requirement already satisfied: jinja2 in /usr/local/lib/python3.7/dist-packages (from eli5) (2.11.3)\n",
            "Requirement already satisfied: scikit-learn>=0.20 in /usr/local/lib/python3.7/dist-packages (from eli5) (0.24.0)\n",
            "Requirement already satisfied: scipy in /usr/local/lib/python3.7/dist-packages (from eli5) (1.4.1)\n",
            "Requirement already satisfied: attrs>16.0.0 in /usr/local/lib/python3.7/dist-packages (from eli5) (21.2.0)\n",
            "Requirement already satisfied: graphviz in /usr/local/lib/python3.7/dist-packages (from eli5) (0.10.1)\n",
            "Requirement already satisfied: numpy>=1.9.0 in /usr/local/lib/python3.7/dist-packages (from eli5) (1.19.5)\n",
            "Requirement already satisfied: joblib>=0.11 in /usr/local/lib/python3.7/dist-packages (from scikit-learn>=0.20->eli5) (1.1.0)\n",
            "Requirement already satisfied: threadpoolctl>=2.0.0 in /usr/local/lib/python3.7/dist-packages (from scikit-learn>=0.20->eli5) (3.0.0)\n",
            "Requirement already satisfied: MarkupSafe>=0.23 in /usr/local/lib/python3.7/dist-packages (from jinja2->eli5) (2.0.1)\n",
            "Installing collected packages: eli5\n",
            "Successfully installed eli5-0.11.0\n"
          ]
        },
        {
          "output_type": "execute_result",
          "data": {
            "text/html": [
              "\n",
              "    <style>\n",
              "    table.eli5-weights tr:hover {\n",
              "        filter: brightness(85%);\n",
              "    }\n",
              "</style>\n",
              "\n",
              "\n",
              "\n",
              "    \n",
              "\n",
              "    \n",
              "\n",
              "    \n",
              "\n",
              "    \n",
              "\n",
              "    \n",
              "\n",
              "    \n",
              "\n",
              "\n",
              "    \n",
              "\n",
              "    \n",
              "\n",
              "    \n",
              "\n",
              "    \n",
              "\n",
              "    \n",
              "\n",
              "    \n",
              "\n",
              "\n",
              "    \n",
              "\n",
              "    \n",
              "\n",
              "    \n",
              "\n",
              "    \n",
              "\n",
              "    \n",
              "        <table class=\"eli5-weights eli5-feature-importances\" style=\"border-collapse: collapse; border: none; margin-top: 0em; table-layout: auto;\">\n",
              "    <thead>\n",
              "    <tr style=\"border: none;\">\n",
              "        <th style=\"padding: 0 1em 0 0.5em; text-align: right; border: none;\">Weight</th>\n",
              "        <th style=\"padding: 0 0.5em 0 0.5em; text-align: left; border: none;\">Feature</th>\n",
              "    </tr>\n",
              "    </thead>\n",
              "    <tbody>\n",
              "    \n",
              "        <tr style=\"background-color: hsl(120, 100.00%, 80.00%); border: none;\">\n",
              "            <td style=\"padding: 0 1em 0 0.5em; text-align: right; border: none;\">\n",
              "                0.3324\n",
              "                \n",
              "                    &plusmn; 0.0208\n",
              "                \n",
              "            </td>\n",
              "            <td style=\"padding: 0 0.5em 0 0.5em; text-align: left; border: none;\">\n",
              "                TotalCharges\n",
              "            </td>\n",
              "        </tr>\n",
              "    \n",
              "        <tr style=\"background-color: hsl(120, 100.00%, 87.69%); border: none;\">\n",
              "            <td style=\"padding: 0 1em 0 0.5em; text-align: right; border: none;\">\n",
              "                0.1661\n",
              "                \n",
              "                    &plusmn; 0.0157\n",
              "                \n",
              "            </td>\n",
              "            <td style=\"padding: 0 0.5em 0 0.5em; text-align: left; border: none;\">\n",
              "                MonthlyCharges\n",
              "            </td>\n",
              "        </tr>\n",
              "    \n",
              "        <tr style=\"background-color: hsl(120, 100.00%, 99.16%); border: none;\">\n",
              "            <td style=\"padding: 0 1em 0 0.5em; text-align: right; border: none;\">\n",
              "                0.0036\n",
              "                \n",
              "                    &plusmn; 0.0026\n",
              "                \n",
              "            </td>\n",
              "            <td style=\"padding: 0 0.5em 0 0.5em; text-align: left; border: none;\">\n",
              "                Partner\n",
              "            </td>\n",
              "        </tr>\n",
              "    \n",
              "        <tr style=\"background-color: hsl(120, 100.00%, 99.34%); border: none;\">\n",
              "            <td style=\"padding: 0 1em 0 0.5em; text-align: right; border: none;\">\n",
              "                0.0025\n",
              "                \n",
              "                    &plusmn; 0.0039\n",
              "                \n",
              "            </td>\n",
              "            <td style=\"padding: 0 0.5em 0 0.5em; text-align: left; border: none;\">\n",
              "                Dependents\n",
              "            </td>\n",
              "        </tr>\n",
              "    \n",
              "        <tr style=\"background-color: hsl(120, 100.00%, 99.90%); border: none;\">\n",
              "            <td style=\"padding: 0 1em 0 0.5em; text-align: right; border: none;\">\n",
              "                0.0002\n",
              "                \n",
              "                    &plusmn; 0.0028\n",
              "                \n",
              "            </td>\n",
              "            <td style=\"padding: 0 0.5em 0 0.5em; text-align: left; border: none;\">\n",
              "                SeniorCitizen\n",
              "            </td>\n",
              "        </tr>\n",
              "    \n",
              "        <tr style=\"background-color: hsl(120, 100.00%, 99.98%); border: none;\">\n",
              "            <td style=\"padding: 0 1em 0 0.5em; text-align: right; border: none;\">\n",
              "                0.0000\n",
              "                \n",
              "                    &plusmn; 0.0022\n",
              "                \n",
              "            </td>\n",
              "            <td style=\"padding: 0 0.5em 0 0.5em; text-align: left; border: none;\">\n",
              "                gender\n",
              "            </td>\n",
              "        </tr>\n",
              "    \n",
              "        <tr style=\"background-color: hsl(0, 100.00%, 100.00%); border: none;\">\n",
              "            <td style=\"padding: 0 1em 0 0.5em; text-align: right; border: none;\">\n",
              "                0\n",
              "                \n",
              "                    &plusmn; 0.0000\n",
              "                \n",
              "            </td>\n",
              "            <td style=\"padding: 0 0.5em 0 0.5em; text-align: left; border: none;\">\n",
              "                entry_age\n",
              "            </td>\n",
              "        </tr>\n",
              "    \n",
              "    \n",
              "    </tbody>\n",
              "</table>\n",
              "    \n",
              "\n",
              "    \n",
              "\n",
              "\n",
              "    \n",
              "\n",
              "    \n",
              "\n",
              "    \n",
              "\n",
              "    \n",
              "\n",
              "    \n",
              "\n",
              "    \n",
              "\n",
              "\n",
              "\n"
            ],
            "text/plain": [
              "<IPython.core.display.HTML object>"
            ]
          },
          "metadata": {},
          "execution_count": 32
        }
      ]
    },
    {
      "cell_type": "code",
      "source": [
        "y_test"
      ],
      "metadata": {
        "colab": {
          "base_uri": "https://localhost:8080/"
        },
        "id": "Ymez5JrDXP29",
        "outputId": "3a0e7650-b85c-4a0a-97a3-6fdad07f5b98"
      },
      "execution_count": 45,
      "outputs": [
        {
          "output_type": "execute_result",
          "data": {
            "text/plain": [
              "array([(False,  5.), ( True, 61.), ( True,  1.), ..., (False, 50.),\n",
              "       (False, 29.), (False, 11.)],\n",
              "      dtype=[('Churn', '?'), ('tenure', '<f8')])"
            ]
          },
          "metadata": {},
          "execution_count": 45
        }
      ]
    },
    {
      "cell_type": "markdown",
      "source": [
        "## C-index\n",
        "\n",
        "Reference: https://medium.com/analytics-vidhya/concordance-index-72298c11eac7\n",
        "\n",
        "Notice that lifelines gives the concordance between the actual event times and the predicted scores, while scikit-survival gives the concordance between the actuals and the predicted risks, so over the same lists, they are the complete opposite. Scikit-survival also gives the number of concordant pairs, number of discordant pairs, number of pairs having tied estimated risks, and the number of comparable pairs sharing the same time.\n",
        "\n",
        "Concordance index (lifelines) = 1-Concordance index (scikit-survival)\n",
        "\n",
        "Concordance index from **scikit-survival** -> 1 means **perfect results**."
      ],
      "metadata": {
        "id": "dPBYquCAYkdJ"
      }
    },
    {
      "cell_type": "code",
      "source": [
        "# Calculate C-Index \n",
        "from lifelines.utils import concordance_index\n",
        "test_churn = [x[1] for x in y_test]\n",
        "test_event_obs = [x[0] for x in y_test]\n",
        "print(test_churn)\n",
        "print(test_event_obs)\n",
        "y_test_pred = rsf.predict(X_test)\n",
        "print(y_test_pred)\n",
        "concordance_index(test_churn, y_test_pred, test_event_obs) # to make this index has the same logic as real c-index, we need to write it as concordance_index(test_churn, -y_test_pred, test_event_obs)"
      ],
      "metadata": {
        "colab": {
          "base_uri": "https://localhost:8080/"
        },
        "id": "m0NhwgYGVVMC",
        "outputId": "920d34f7-ba6f-465c-90a6-0353fa7e4db6"
      },
      "execution_count": 47,
      "outputs": [
        {
          "output_type": "stream",
          "name": "stdout",
          "text": [
            "[5.0, 61.0, 1.0, 64.0, 60.0, 56.0, 19.0, 1.0, 31.0, 10.0, 69.0, 1.0, 39.0, 1.0, 67.0, 8.0, 4.0, 58.0, 61.0, 4.0, 4.0, 35.0, 53.0, 22.0, 29.0, 12.0, 52.0, 39.0, 1.0, 53.0, 1.0, 72.0, 44.0, 27.0, 12.0, 71.0, 68.0, 15.0, 64.0, 46.0, 25.0, 70.0, 45.0, 16.0, 71.0, 13.0, 41.0, 72.0, 46.0, 10.0, 24.0, 1.0, 48.0, 26.0, 20.0, 72.0, 15.0, 29.0, 7.0, 25.0, 2.0, 60.0, 64.0, 43.0, 42.0, 15.0, 5.0, 72.0, 72.0, 14.0, 67.0, 24.0, 51.0, 5.0, 1.0, 9.0, 27.0, 12.0, 13.0, 18.0, 46.0, 30.0, 68.0, 1.0, 45.0, 1.0, 52.0, 7.0, 54.0, 68.0, 68.0, 1.0, 28.0, 72.0, 9.0, 47.0, 27.0, 1.0, 72.0, 12.0, 15.0, 6.0, 1.0, 43.0, 1.0, 72.0, 1.0, 5.0, 15.0, 34.0, 23.0, 26.0, 72.0, 72.0, 1.0, 23.0, 64.0, 68.0, 10.0, 58.0, 1.0, 71.0, 40.0, 33.0, 47.0, 71.0, 57.0, 14.0, 64.0, 11.0, 9.0, 15.0, 66.0, 42.0, 63.0, 11.0, 70.0, 35.0, 57.0, 38.0, 20.0, 3.0, 23.0, 68.0, 4.0, 17.0, 7.0, 51.0, 3.0, 11.0, 53.0, 71.0, 56.0, 53.0, 23.0, 35.0, 34.0, 68.0, 24.0, 70.0, 72.0, 52.0, 34.0, 51.0, 67.0, 14.0, 35.0, 49.0, 1.0, 11.0, 1.0, 22.0, 1.0, 57.0, 8.0, 33.0, 1.0, 62.0, 55.0, 52.0, 25.0, 46.0, 24.0, 15.0, 31.0, 29.0, 61.0, 72.0, 63.0, 4.0, 16.0, 3.0, 3.0, 22.0, 37.0, 66.0, 27.0, 28.0, 50.0, 1.0, 46.0, 4.0, 71.0, 55.0, 6.0, 3.0, 36.0, 70.0, 1.0, 14.0, 16.0, 47.0, 36.0, 36.0, 31.0, 66.0, 32.0, 40.0, 8.0, 61.0, 1.0, 6.0, 46.0, 28.0, 8.0, 72.0, 52.0, 1.0, 3.0, 72.0, 29.0, 15.0, 40.0, 18.0, 35.0, 66.0, 49.0, 1.0, 72.0, 72.0, 46.0, 22.0, 14.0, 13.0, 24.0, 2.0, 61.0, 16.0, 27.0, 23.0, 3.0, 31.0, 37.0, 33.0, 50.0, 26.0, 71.0, 21.0, 62.0, 25.0, 1.0, 8.0, 70.0, 32.0, 10.0, 22.0, 22.0, 41.0, 8.0, 37.0, 71.0, 3.0, 16.0, 52.0, 2.0, 7.0, 6.0, 62.0, 1.0, 1.0, 33.0, 15.0, 63.0, 6.0, 21.0, 72.0, 4.0, 2.0, 7.0, 25.0, 51.0, 67.0, 7.0, 33.0, 34.0, 41.0, 41.0, 12.0, 32.0, 41.0, 62.0, 11.0, 18.0, 69.0, 72.0, 39.0, 20.0, 1.0, 10.0, 70.0, 40.0, 61.0, 72.0, 71.0, 16.0, 42.0, 12.0, 10.0, 1.0, 13.0, 1.0, 16.0, 54.0, 2.0, 71.0, 11.0, 9.0, 4.0, 1.0, 6.0, 48.0, 40.0, 19.0, 12.0, 70.0, 71.0, 71.0, 22.0, 27.0, 18.0, 3.0, 9.0, 67.0, 1.0, 69.0, 4.0, 65.0, 46.0, 57.0, 58.0, 3.0, 10.0, 18.0, 16.0, 7.0, 69.0, 36.0, 2.0, 23.0, 27.0, 1.0, 28.0, 1.0, 16.0, 60.0, 43.0, 23.0, 4.0, 14.0, 5.0, 18.0, 54.0, 48.0, 48.0, 12.0, 71.0, 29.0, 26.0, 20.0, 4.0, 53.0, 60.0, 63.0, 69.0, 63.0, 8.0, 3.0, 53.0, 3.0, 52.0, 15.0, 55.0, 49.0, 70.0, 46.0, 38.0, 15.0, 7.0, 3.0, 1.0, 17.0, 7.0, 54.0, 8.0, 15.0, 31.0, 26.0, 20.0, 52.0, 66.0, 35.0, 56.0, 20.0, 13.0, 66.0, 20.0, 39.0, 43.0, 1.0, 58.0, 60.0, 5.0, 7.0, 37.0, 21.0, 21.0, 3.0, 27.0, 57.0, 71.0, 9.0, 47.0, 11.0, 18.0, 5.0, 71.0, 55.0, 68.0, 57.0, 68.0, 72.0, 68.0, 62.0, 38.0, 62.0, 72.0, 1.0, 30.0, 1.0, 4.0, 2.0, 64.0, 4.0, 2.0, 66.0, 72.0, 28.0, 28.0, 6.0, 3.0, 49.0, 54.0, 42.0, 72.0, 36.0, 52.0, 24.0, 1.0, 49.0, 50.0, 18.0, 8.0, 11.0, 8.0, 8.0, 6.0, 8.0, 12.0, 30.0, 72.0, 3.0, 18.0, 48.0, 15.0, 14.0, 20.0, 25.0, 23.0, 1.0, 67.0, 72.0, 5.0, 49.0, 19.0, 1.0, 17.0, 49.0, 3.0, 5.0, 16.0, 41.0, 21.0, 36.0, 50.0, 71.0, 71.0, 3.0, 1.0, 72.0, 56.0, 18.0, 23.0, 72.0, 69.0, 52.0, 27.0, 58.0, 72.0, 1.0, 1.0, 58.0, 1.0, 57.0, 4.0, 39.0, 1.0, 29.0, 8.0, 22.0, 24.0, 47.0, 17.0, 21.0, 58.0, 57.0, 38.0, 56.0, 5.0, 47.0, 17.0, 20.0, 43.0, 70.0, 25.0, 52.0, 61.0, 68.0, 55.0, 72.0, 35.0, 35.0, 69.0, 38.0, 72.0, 3.0, 72.0, 28.0, 5.0, 46.0, 18.0, 32.0, 36.0, 1.0, 1.0, 36.0, 5.0, 1.0, 72.0, 56.0, 42.0, 34.0, 14.0, 12.0, 18.0, 10.0, 69.0, 1.0, 4.0, 10.0, 61.0, 1.0, 72.0, 9.0, 24.0, 17.0, 32.0, 8.0, 3.0, 72.0, 36.0, 7.0, 1.0, 70.0, 5.0, 22.0, 47.0, 4.0, 53.0, 66.0, 66.0, 15.0, 25.0, 1.0, 47.0, 42.0, 2.0, 1.0, 24.0, 17.0, 6.0, 16.0, 2.0, 66.0, 72.0, 24.0, 72.0, 1.0, 39.0, 22.0, 29.0, 45.0, 69.0, 27.0, 9.0, 42.0, 56.0, 71.0, 59.0, 29.0, 18.0, 13.0, 70.0, 1.0, 11.0, 47.0, 1.0, 36.0, 8.0, 43.0, 48.0, 41.0, 46.0, 46.0, 55.0, 8.0, 45.0, 64.0, 10.0, 60.0, 3.0, 13.0, 25.0, 42.0, 6.0, 41.0, 1.0, 28.0, 4.0, 31.0, 52.0, 16.0, 11.0, 9.0, 38.0, 22.0, 30.0, 14.0, 5.0, 22.0, 5.0, 16.0, 6.0, 66.0, 7.0, 70.0, 3.0, 1.0, 70.0, 65.0, 59.0, 24.0, 15.0, 65.0, 8.0, 36.0, 53.0, 33.0, 66.0, 40.0, 1.0, 55.0, 5.0, 3.0, 39.0, 37.0, 39.0, 23.0, 8.0, 6.0, 1.0, 4.0, 19.0, 34.0, 60.0, 12.0, 26.0, 33.0, 34.0, 22.0, 14.0, 1.0, 24.0, 20.0, 65.0, 2.0, 31.0, 1.0, 10.0, 37.0, 23.0, 47.0, 68.0, 57.0, 2.0, 53.0, 65.0, 52.0, 43.0, 69.0, 35.0, 10.0, 3.0, 35.0, 22.0, 1.0, 14.0, 4.0, 44.0, 1.0, 32.0, 52.0, 1.0, 6.0, 30.0, 71.0, 56.0, 35.0, 4.0, 54.0, 21.0, 48.0, 4.0, 72.0, 12.0, 63.0, 3.0, 23.0, 65.0, 1.0, 23.0, 68.0, 12.0, 71.0, 64.0, 44.0, 3.0, 32.0, 60.0, 41.0, 1.0, 12.0, 21.0, 66.0, 48.0, 27.0, 25.0, 44.0, 70.0, 22.0, 35.0, 58.0, 1.0, 1.0, 30.0, 9.0, 42.0, 64.0, 15.0, 71.0, 22.0, 52.0, 9.0, 48.0, 23.0, 10.0, 25.0, 1.0, 34.0, 56.0, 1.0, 2.0, 72.0, 72.0, 72.0, 43.0, 6.0, 3.0, 57.0, 65.0, 51.0, 65.0, 62.0, 61.0, 72.0, 7.0, 72.0, 54.0, 30.0, 9.0, 3.0, 25.0, 42.0, 3.0, 62.0, 1.0, 26.0, 70.0, 29.0, 1.0, 22.0, 61.0, 12.0, 20.0, 23.0, 1.0, 59.0, 24.0, 66.0, 7.0, 67.0, 55.0, 5.0, 8.0, 50.0, 72.0, 42.0, 58.0, 66.0, 9.0, 70.0, 7.0, 1.0, 40.0, 1.0, 1.0, 4.0, 41.0, 26.0, 69.0, 2.0, 2.0, 72.0, 20.0, 1.0, 35.0, 5.0, 10.0, 50.0, 30.0, 11.0, 11.0, 28.0, 3.0, 61.0, 1.0, 25.0, 71.0, 36.0, 12.0, 4.0, 2.0, 1.0, 1.0, 72.0, 7.0, 3.0, 29.0, 52.0, 44.0, 4.0, 4.0, 61.0, 45.0, 67.0, 4.0, 71.0, 21.0, 18.0, 9.0, 10.0, 32.0, 19.0, 17.0, 72.0, 3.0, 19.0, 17.0, 34.0, 10.0, 13.0, 9.0, 55.0, 10.0, 26.0, 39.0, 72.0, 1.0, 17.0, 25.0, 72.0, 35.0, 48.0, 1.0, 72.0, 38.0, 59.0, 28.0, 69.0, 44.0, 7.0, 45.0, 1.0, 64.0, 59.0, 5.0, 31.0, 9.0, 18.0, 32.0, 3.0, 5.0, 61.0, 41.0, 21.0, 1.0, 12.0, 3.0, 29.0, 15.0, 19.0, 34.0, 48.0, 55.0, 51.0, 72.0, 72.0, 50.0, 43.0, 13.0, 22.0, 67.0, 23.0, 69.0, 35.0, 1.0, 24.0, 29.0, 70.0, 57.0, 2.0, 16.0, 43.0, 3.0, 12.0, 30.0, 17.0, 2.0, 1.0, 70.0, 54.0, 71.0, 66.0, 6.0, 72.0, 54.0, 14.0, 72.0, 11.0, 72.0, 49.0, 71.0, 12.0, 5.0, 66.0, 65.0, 13.0, 72.0, 43.0, 5.0, 41.0, 17.0, 9.0, 26.0, 6.0, 72.0, 42.0, 17.0, 40.0, 70.0, 13.0, 7.0, 1.0, 40.0, 51.0, 2.0, 5.0, 11.0, 5.0, 9.0, 20.0, 28.0, 4.0, 34.0, 3.0, 2.0, 52.0, 26.0, 64.0, 56.0, 72.0, 42.0, 1.0, 65.0, 1.0, 72.0, 65.0, 58.0, 37.0, 11.0, 60.0, 1.0, 59.0, 62.0, 70.0, 15.0, 64.0, 26.0, 20.0, 17.0, 68.0, 1.0, 18.0, 72.0, 72.0, 19.0, 51.0, 52.0, 4.0, 47.0, 52.0, 8.0, 6.0, 67.0, 30.0, 5.0, 27.0, 54.0, 42.0, 13.0, 14.0, 25.0, 69.0, 21.0, 2.0, 1.0, 22.0, 6.0, 61.0, 72.0, 44.0, 70.0, 55.0, 55.0, 62.0, 41.0, 60.0, 7.0, 23.0, 16.0, 65.0, 21.0, 21.0, 65.0, 26.0, 58.0, 13.0, 24.0, 32.0, 43.0, 5.0, 71.0, 72.0, 7.0, 6.0, 71.0, 2.0, 3.0, 17.0, 2.0, 72.0, 1.0, 15.0, 70.0, 41.0, 72.0, 63.0, 46.0, 1.0, 14.0, 9.0, 60.0, 32.0, 4.0, 36.0, 5.0, 24.0, 59.0, 32.0, 1.0, 1.0, 2.0, 1.0, 8.0, 1.0, 35.0, 71.0, 18.0, 3.0, 32.0, 62.0, 17.0, 13.0, 51.0, 32.0, 35.0, 31.0, 54.0, 2.0, 15.0, 13.0, 7.0, 24.0, 8.0, 11.0, 4.0, 2.0, 19.0, 63.0, 41.0, 51.0, 61.0, 5.0, 1.0, 1.0, 1.0, 5.0, 1.0, 2.0, 49.0, 25.0, 67.0, 57.0, 34.0, 56.0, 69.0, 62.0, 71.0, 68.0, 28.0, 1.0, 63.0, 53.0, 6.0, 3.0, 3.0, 24.0, 53.0, 28.0, 62.0, 33.0, 48.0, 53.0, 17.0, 16.0, 47.0, 4.0, 30.0, 54.0, 17.0, 30.0, 69.0, 59.0, 4.0, 30.0, 60.0, 13.0, 51.0, 9.0, 28.0, 3.0, 12.0, 12.0, 38.0, 7.0, 70.0, 3.0, 27.0, 68.0, 4.0, 12.0, 72.0, 8.0, 69.0, 61.0, 44.0, 60.0, 39.0, 1.0, 52.0, 61.0, 46.0, 26.0, 22.0, 3.0, 58.0, 35.0, 3.0, 3.0, 68.0, 51.0, 22.0, 65.0, 59.0, 13.0, 49.0, 72.0, 1.0, 41.0, 33.0, 11.0, 21.0, 3.0, 23.0, 4.0, 9.0, 72.0, 72.0, 39.0, 48.0, 2.0, 17.0, 26.0, 23.0, 1.0, 33.0, 61.0, 30.0, 46.0, 69.0, 4.0, 3.0, 11.0, 36.0, 63.0, 51.0, 37.0, 72.0, 29.0, 71.0, 70.0, 21.0, 66.0, 39.0, 58.0, 54.0, 63.0, 7.0, 4.0, 4.0, 1.0, 24.0, 23.0, 68.0, 72.0, 19.0, 9.0, 7.0, 26.0, 71.0, 7.0, 56.0, 64.0, 52.0, 44.0, 36.0, 9.0, 38.0, 19.0, 68.0, 4.0, 56.0, 61.0, 49.0, 72.0, 37.0, 38.0, 63.0, 3.0, 22.0, 30.0, 23.0, 15.0, 64.0, 1.0, 72.0, 6.0, 72.0, 27.0, 1.0, 1.0, 16.0, 59.0, 52.0, 51.0, 51.0, 43.0, 10.0, 2.0, 72.0, 1.0, 3.0, 35.0, 11.0, 1.0, 63.0, 31.0, 40.0, 1.0, 64.0, 4.0, 72.0, 2.0, 25.0, 14.0, 2.0, 8.0, 9.0, 43.0, 61.0, 15.0, 72.0, 13.0, 5.0, 9.0, 1.0, 49.0, 29.0, 27.0, 10.0, 14.0, 6.0, 18.0, 72.0, 43.0, 25.0, 47.0, 1.0, 2.0, 2.0, 62.0, 1.0, 72.0, 63.0, 70.0, 5.0, 71.0, 23.0, 69.0, 15.0, 12.0, 56.0, 71.0, 12.0, 1.0, 56.0, 30.0, 7.0, 49.0, 72.0, 56.0, 64.0, 25.0, 20.0, 70.0, 53.0, 8.0, 40.0, 43.0, 71.0, 11.0, 1.0, 26.0, 22.0, 60.0, 61.0, 19.0, 30.0, 6.0, 42.0, 60.0, 62.0, 34.0, 57.0, 49.0, 46.0, 72.0, 67.0, 1.0, 58.0, 13.0, 51.0, 14.0, 7.0, 34.0, 47.0, 46.0, 51.0, 1.0, 70.0, 4.0, 55.0, 72.0, 64.0, 5.0, 5.0, 2.0, 72.0, 1.0, 70.0, 2.0, 42.0, 34.0, 10.0, 1.0, 39.0, 72.0, 1.0, 14.0, 16.0, 45.0, 5.0, 71.0, 35.0, 18.0, 72.0, 71.0, 1.0, 40.0, 14.0, 65.0, 8.0, 42.0, 58.0, 18.0, 71.0, 31.0, 50.0, 8.0, 50.0, 37.0, 21.0, 44.0, 72.0, 58.0, 71.0, 7.0, 1.0, 7.0, 4.0, 1.0, 25.0, 60.0, 7.0, 15.0, 23.0, 14.0, 49.0, 70.0, 54.0, 72.0, 58.0, 13.0, 53.0, 10.0, 29.0, 9.0, 1.0, 20.0, 4.0, 49.0, 4.0, 63.0, 1.0, 1.0, 33.0, 72.0, 1.0, 68.0, 13.0, 20.0, 3.0, 12.0, 32.0, 72.0, 13.0, 31.0, 71.0, 9.0, 25.0, 25.0, 23.0, 30.0, 38.0, 48.0, 1.0, 69.0, 60.0, 62.0, 17.0, 23.0, 2.0, 4.0, 64.0, 72.0, 18.0, 14.0, 25.0, 58.0, 71.0, 62.0, 1.0, 42.0, 1.0, 26.0, 6.0, 54.0, 61.0, 51.0, 63.0, 71.0, 1.0, 26.0, 35.0, 3.0, 3.0, 18.0, 22.0, 31.0, 23.0, 66.0, 38.0, 67.0, 60.0, 27.0, 69.0, 35.0, 17.0, 9.0, 53.0, 1.0, 22.0, 4.0, 12.0, 44.0, 2.0, 45.0, 18.0, 28.0, 42.0, 71.0, 44.0, 3.0, 2.0, 44.0, 5.0, 5.0, 12.0, 37.0, 70.0, 25.0, 5.0, 61.0, 18.0, 3.0, 4.0, 40.0, 64.0, 32.0, 33.0, 24.0, 20.0, 42.0, 2.0, 40.0, 3.0, 56.0, 1.0, 60.0, 65.0, 67.0, 60.0, 67.0, 3.0, 63.0, 72.0, 5.0, 69.0, 47.0, 11.0, 36.0, 2.0, 70.0, 42.0, 10.0, 27.0, 72.0, 9.0, 45.0, 1.0, 8.0, 55.0, 50.0, 22.0, 6.0, 29.0, 51.0, 20.0, 49.0, 68.0, 13.0, 34.0, 17.0, 48.0, 32.0, 3.0, 44.0, 71.0, 2.0, 1.0, 20.0, 72.0, 5.0, 9.0, 65.0, 9.0, 3.0, 60.0, 4.0, 21.0, 72.0, 35.0, 24.0, 70.0, 52.0, 72.0, 71.0, 9.0, 12.0, 47.0, 62.0, 8.0, 33.0, 54.0, 22.0, 72.0, 3.0, 67.0, 13.0, 19.0, 44.0, 1.0, 7.0, 8.0, 71.0, 67.0, 1.0, 4.0, 22.0, 4.0, 6.0, 20.0, 71.0, 31.0, 20.0, 3.0, 3.0, 3.0, 5.0, 64.0, 28.0, 46.0, 1.0, 1.0, 51.0, 5.0, 15.0, 8.0, 36.0, 31.0, 66.0, 72.0, 15.0, 52.0, 39.0, 1.0, 17.0, 69.0, 14.0, 1.0, 1.0, 50.0, 24.0, 24.0, 72.0, 3.0, 22.0, 34.0, 67.0, 67.0, 70.0, 4.0, 1.0, 52.0, 1.0, 12.0, 33.0, 68.0, 34.0, 54.0, 24.0, 49.0, 1.0, 50.0, 38.0, 72.0, 50.0, 29.0, 11.0]\n",
            "[False, True, True, False, False, False, False, False, False, False, False, False, False, False, False, False, False, True, False, True, True, False, False, True, False, True, False, False, True, False, True, False, False, False, False, False, True, True, True, False, False, False, False, False, False, True, False, False, False, False, False, True, False, False, False, False, False, False, True, False, False, False, False, False, False, False, True, False, False, True, False, False, False, True, False, False, False, True, False, False, False, False, False, False, False, True, True, True, False, False, False, False, False, False, False, False, False, True, False, False, False, True, True, False, False, False, False, True, False, False, False, False, False, False, True, False, False, False, False, False, False, False, False, False, False, False, False, True, False, False, False, True, True, False, False, True, False, False, False, False, False, True, False, True, False, False, False, False, True, False, False, False, False, False, False, False, False, False, False, False, False, False, False, False, False, True, False, False, False, True, False, False, True, False, False, False, True, False, False, False, False, False, True, True, False, False, False, False, False, False, True, False, True, False, False, True, True, False, False, True, False, False, False, False, False, False, False, False, True, True, True, False, True, False, False, False, True, False, False, False, True, False, True, False, True, False, True, False, True, False, False, False, False, False, False, False, True, True, False, False, False, True, False, False, False, True, False, True, False, False, False, False, False, False, False, False, False, True, False, False, True, False, False, False, False, False, True, False, False, False, False, True, True, True, True, False, False, False, False, True, False, False, False, False, False, False, False, False, False, False, False, False, True, False, False, True, False, False, True, False, False, True, True, False, False, False, False, False, False, True, False, False, False, False, False, False, True, True, True, True, True, True, True, False, False, False, False, False, True, False, False, False, False, True, False, False, False, True, False, True, True, False, False, True, False, True, False, True, False, False, True, False, True, False, False, False, False, False, True, False, True, False, False, False, False, False, False, False, False, False, True, False, False, True, False, False, False, False, False, True, False, True, False, False, False, False, False, False, True, False, True, False, False, False, False, True, False, False, True, True, False, True, False, True, True, False, True, False, False, False, True, False, True, False, False, False, False, False, True, True, False, True, True, False, False, False, False, False, False, True, True, False, False, False, True, False, False, False, False, False, False, False, False, False, False, False, False, False, True, True, False, False, False, False, False, False, False, False, True, False, False, True, False, False, False, False, False, True, False, False, False, True, False, False, False, True, False, False, True, False, False, False, True, False, False, False, True, False, False, False, False, True, False, False, True, False, True, False, True, True, False, False, False, False, False, False, True, False, False, False, False, False, False, False, False, False, True, False, True, True, False, True, False, True, False, True, False, False, False, False, False, True, True, False, False, False, False, True, False, False, False, False, False, False, False, False, False, False, False, False, False, False, False, False, False, False, True, True, True, False, False, False, True, True, False, False, True, False, False, False, False, False, False, True, True, False, True, True, False, False, True, False, False, True, False, False, True, True, False, False, False, True, False, True, False, False, False, False, True, False, True, False, True, False, False, False, False, False, True, False, True, False, False, False, False, False, False, False, True, True, False, False, True, False, False, False, False, False, False, False, True, False, True, True, False, True, False, True, True, False, False, False, False, False, False, True, False, True, False, False, True, False, True, True, True, True, False, False, False, False, False, False, False, True, True, True, True, False, False, False, False, False, False, False, True, True, True, False, False, True, False, False, False, False, True, False, False, False, False, False, False, False, False, False, False, False, False, False, True, False, False, False, False, False, False, False, False, True, True, False, True, False, True, False, False, False, True, False, False, False, True, False, False, True, False, False, False, False, False, False, False, True, True, True, False, False, False, False, True, False, False, True, False, True, False, True, False, False, False, False, False, True, False, False, False, True, False, False, False, False, False, False, False, False, False, False, False, False, False, True, False, False, False, False, False, False, True, False, False, False, False, True, False, False, False, False, False, True, False, False, False, False, False, True, True, False, False, False, False, True, False, False, False, False, False, False, False, False, False, False, False, False, False, False, False, False, True, False, True, False, False, False, False, False, False, True, False, True, False, False, False, False, False, False, False, False, True, True, False, False, False, False, False, False, False, False, True, False, False, False, False, False, False, False, False, True, False, False, False, True, True, False, True, False, False, True, True, False, True, False, False, False, False, False, False, False, False, False, False, True, True, False, True, False, True, False, False, False, True, False, False, False, False, False, False, False, True, False, False, False, False, False, True, False, True, False, False, False, False, False, False, True, False, False, True, False, True, False, False, False, True, False, False, False, False, False, False, False, False, False, True, True, False, False, True, True, False, False, False, False, False, True, False, True, True, True, False, False, False, False, True, False, False, False, False, False, False, False, False, False, False, False, False, False, True, False, False, False, False, False, True, False, False, False, False, False, False, True, False, False, False, False, True, False, False, False, False, False, False, False, False, True, True, False, True, True, False, False, True, False, True, True, False, False, False, False, False, False, False, True, True, False, False, False, False, True, False, True, False, False, False, False, False, True, True, False, False, False, False, False, True, True, False, True, False, False, True, True, True, False, True, False, False, False, False, False, False, False, True, False, True, False, False, False, True, False, False, True, True, False, False, False, False, False, True, False, False, True, False, False, False, False, True, True, True, False, True, False, False, False, False, False, False, False, False, True, True, False, True, False, False, False, False, False, False, False, False, False, False, True, False, False, False, False, False, False, True, True, True, False, True, False, False, False, False, False, False, True, False, True, False, False, False, True, False, False, False, False, True, True, True, True, False, True, False, False, True, True, False, False, False, False, False, False, False, False, False, False, False, True, True, False, False, True, False, False, True, False, True, False, False, True, True, False, False, True, True, False, False, False, False, False, False, False, False, True, False, False, False, False, False, False, True, False, True, False, False, False, False, False, False, False, True, True, False, True, False, False, True, False, False, True, False, True, False, False, False, True, False, False, True, False, True, True, False, False, False, False, False, True, False, True, True, False, False, False, True, False, False, False, True, False, False, True, False, True, False, True, False, False, False, False, False, False, False, False, True, False, False, True, False, True, False, False, True, False, False, False, False, False, False, False, False, True, True, True, False, False, False, True, False, False, False, False, False, False, False, False, False, False, True, False, False, True, False, False, False, False, True, False, False, False, False, False, False, False, False, True, False, False, True, False, False, False, False, False, True, False, False, False, False, False, False, False, True, False, False, False, False, True, False, False, False, False, False, True, False, False, False, False, False, False, False, False, False, False, False, False, False, False, False, False, False, False, False, False, False, True, False, False, False, True, True, True, True, True, True, False, False, False, False, False, True, False, False, False, False, True, False, False, False, False, False, False, True, True, True, True, True, False, True, False, False, False, False, False, False, True, True, False, False, False, False, True, False, True, True, False, False, False, False, False, False, False, False, False, False, False, False, True, False, False, False, False, False, False, False, False, False, False, False, True, False, False, False, False, False, True, False, False, True, False, True, True, False, False, False, False, False, True, False, False, False, True, True, True, True, False, False, True, False, True, False, False, False, False, False, False, False, False, True, False, False, False, False, False, True, False, False, False, False, False, False, False, False, True, False, False, False, True, False, False, False, False, False, False, True, False, True, False, True, False, True, True, True, False, True, True, False, False, False, False, False, True, False, False, True, True, False, False, False, False, True, True, False, False, True, False, True, False, False, False, False, False, False, False, False, True, False, False, True, False, False, False, False, False, False, False, False, False, False, True, False, False, False, False, True, False, False, False, True, False, False, False, False, False, False, False, False, False, False, False, False, False, True, False, True, False, False, False, False, True, False, False, False, False, True, False, True, True, True, True, False, False, True, True, False, False, False, False, False, True, True, True, False, True, True, False, False, False, False, False, True, False, True, False, True, False, False, False, False, False, True, False, False, False, True, False, False, False, False, False, False, False, False, False, False, False, False, True, False, False, True, False, True, False, True, False, False, False, False, False, False, True, False, False, False, False, False, False, False, False, False, False, True, True, False, True, True, True, False, False, False, True, True, False, False, True, False, False, False, False, False, False, False, False, False, False, True, False, False, False, False, True, False, True, False, False, False, False, True, True, False, False, False, True, True, False, True, False, False, False, True, False, False, False, False, False, False, False, False, False, True, False, True, False, False, False, True, False, False, False, False, False, True, False, False, False, True, False, False, False, True, False, True, True, False, False, False, False, False, True, True, True, False, False, False, False, False, True, True, False, False, False, False, False, False, False]\n",
            "[105.11969051   5.18409096  83.87042974 ...  12.42736668  18.18873856\n",
            "  54.33016544]\n"
          ]
        },
        {
          "output_type": "execute_result",
          "data": {
            "text/plain": [
              "0.09978668887205551"
            ]
          },
          "metadata": {},
          "execution_count": 47
        }
      ]
    },
    {
      "cell_type": "code",
      "source": [
        "from sksurv.metrics import concordance_index_censored as ci_scikit\n",
        "ci_scikit(test_event_obs, test_churn, y_test_pred)[0]"
      ],
      "metadata": {
        "colab": {
          "base_uri": "https://localhost:8080/"
        },
        "id": "vXzR7aDUYVca",
        "outputId": "30851246-35cf-4a30-ca6e-3f0dca4fcc9e"
      },
      "execution_count": 48,
      "outputs": [
        {
          "output_type": "execute_result",
          "data": {
            "text/plain": [
              "(0.9002133111279444, 490801, 54398, 14, 12303)"
            ]
          },
          "metadata": {},
          "execution_count": 48
        }
      ]
    }
  ]
}